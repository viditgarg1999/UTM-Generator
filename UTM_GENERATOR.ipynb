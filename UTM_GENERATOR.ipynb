{
 "cells": [
  {
   "cell_type": "code",
   "execution_count": 1,
   "metadata": {},
   "outputs": [
    {
     "name": "stdout",
     "output_type": "stream",
     "text": [
      "Enter the website url: https://analyticsprofile.com/analytics-in-cricket/cricket-analytics-part-2-exploratory-data-analysis-from-virat-dhonis-performance/\n",
      "Enter the Campaign Source: linkedin\n",
      "Enter the campaign medium: dailypost\n",
      "Enter campaign name: \n",
      "Enter campaign content: \n",
      "Enter campaign term: \n",
      "\n",
      "\n",
      "Generated url is:\n",
      "https://analyticsprofile.com/analytics-in-cricket/cricket-analytics-part-2-exploratory-data-analysis-from-virat-dhonis-performance/?utm_source=linkedin&utm_medium=dailypost\n"
     ]
    },
    {
     "data": {
      "text/plain": [
       "'\\nInformation about parameters:\\n1. Use utm_source to identify a search engine, newsletter name, or other source.\\nExample: google\\n\\n2. Use utm_medium to identify a medium such as email or cost-per- click.\\nExample: cpc\\n\\n3. Used for keyword analysis. Use utm_campaign to identify a specific product promotion or strategic campaign.\\nExample: utm_campaign=spring_sale\\n\\n4. Used for paid search. Use utm_term to note the keywords for this ad.\\nExample: running+shoes\\n\\n5. Used for A/B testing and content-targeted ads. Use utm_content to differentiate ads or links that point to the same URL.\\nExamples: logolink or textlink\\n\\n'"
      ]
     },
     "execution_count": 1,
     "metadata": {},
     "output_type": "execute_result"
    }
   ],
   "source": [
    "url=input(\"Enter the website url: \")                  # The full website URL (e.g. https://www.example.com)\n",
    "campaign_source=input(\"Enter the Campaign Source: \")  #The referrer: (e.g. google, newsletter,facebook,reddit)\n",
    "campaign_medium=input(\"Enter the campaign medium: \")  #Marketing medium: (e.g. cpc, banner, email,dailypost)\n",
    "campaign_name=input(\"Enter campaign name: \")          #Product, promo code, or slogan (e.g. spring_sale)\n",
    "campaign_term=input(\"Enter campaign content: \")       #Identify the paid keywords\n",
    "campaign_content=input(\"Enter campaign term: \")       #Use to differentiate ads\n",
    "\n",
    "generated_url=url\n",
    "\n",
    "\"\"\"\n",
    "Instructions:\n",
    "1. Campaign_source is mandatory field, it helps you to track the source from where you are getting traffic\n",
    "2. Campaign_medium is not mandatory but it is highly recommended to not to left it empty as it helps to predict the medium from where you are getting the traffic eg. it can be posts, newsletters, emails e.t.c\n",
    "3. Remaining three fields \"name,term,content\" are not much important but again it completly depends upon your requirement, like if you want to filter the traffic as per name, term or content then you can fill up the values here\n",
    "\"\"\"\n",
    "\n",
    "if campaign_source:\n",
    "    generated_url=generated_url+'?utm_source='+campaign_source\n",
    "    if campaign_medium:\n",
    "        generated_url=generated_url+'&utm_medium='+campaign_medium\n",
    "    if campaign_name:\n",
    "        generated_url=generated_url+'&utm_campaign='+campaign_name\n",
    "    if campaign_term:\n",
    "        generated_url=generated_url+'&utm_term='+campaign_term\n",
    "    if campaign_content:\n",
    "        generated_url=generated_url+'&utm_content='+campaign_content\n",
    "    print(\"\\n\")\n",
    "    print(\"Generated url is:\"\"\\n\"+ generated_url)\n",
    "else:\n",
    "    print(\"\\n\")\n",
    "    print(\"Campaign Source cannot be empty!!\")\n",
    "          \n",
    "\n",
    "\"\"\"\n",
    "Information about parameters:\n",
    "1. Use utm_source to identify a search engine, newsletter name, or other source.\n",
    "Example: google\n",
    "\n",
    "2. Use utm_medium to identify a medium such as email or cost-per- click.\n",
    "Example: cpc\n",
    "\n",
    "3. Used for keyword analysis. Use utm_campaign to identify a specific product promotion or strategic campaign.\n",
    "Example: utm_campaign=spring_sale\n",
    "\n",
    "4. Used for paid search. Use utm_term to note the keywords for this ad.\n",
    "Example: running+shoes\n",
    "\n",
    "5. Used for A/B testing and content-targeted ads. Use utm_content to differentiate ads or links that point to the same URL.\n",
    "Examples: logolink or textlink\n",
    "\n",
    "\"\"\"\n",
    "\n",
    "#Just copy the generated url and enjoy tracking.\n"
   ]
  },
  {
   "cell_type": "code",
   "execution_count": null,
   "metadata": {},
   "outputs": [],
   "source": []
  },
  {
   "cell_type": "code",
   "execution_count": null,
   "metadata": {},
   "outputs": [],
   "source": []
  }
 ],
 "metadata": {
  "kernelspec": {
   "display_name": "Python 3",
   "language": "python",
   "name": "python3"
  },
  "language_info": {
   "codemirror_mode": {
    "name": "ipython",
    "version": 3
   },
   "file_extension": ".py",
   "mimetype": "text/x-python",
   "name": "python",
   "nbconvert_exporter": "python",
   "pygments_lexer": "ipython3",
   "version": "3.7.2"
  }
 },
 "nbformat": 4,
 "nbformat_minor": 2
}
